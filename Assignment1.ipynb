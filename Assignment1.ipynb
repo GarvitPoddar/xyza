{
  "nbformat": 4,
  "nbformat_minor": 0,
  "metadata": {
    "colab": {
      "name": "Assignment1.ipynb",
      "provenance": []
    },
    "kernelspec": {
      "name": "python3",
      "display_name": "Python 3"
    }
  },
  "cells": [
    {
      "cell_type": "markdown",
      "metadata": {
        "id": "5bXiKdIDBxPB"
      },
      "source": [
        "Answer 1 : b) RAINBOW"
      ]
    },
    {
      "cell_type": "markdown",
      "metadata": {
        "id": "Cg7XadsYCEe4"
      },
      "source": [
        "Answer 2 : "
      ]
    },
    {
      "cell_type": "code",
      "metadata": {
        "id": "g-Iod-U2B-Kc"
      },
      "source": [
        "a = input()\n",
        "print(a.upper())"
      ],
      "execution_count": null,
      "outputs": []
    },
    {
      "cell_type": "markdown",
      "metadata": {
        "id": "sQu345tqDELy"
      },
      "source": [
        "Answer 3 :"
      ]
    },
    {
      "cell_type": "code",
      "metadata": {
        "id": "6e3hNtL0CcjK"
      },
      "source": [
        "cost_price = int(input())\n",
        "selling_price = int(input())\n",
        "if cost_price>selling_price:\n",
        "  print(\"Loss\")\n",
        "elif selling_price>cost_price:\n",
        "  print(\"Profit\")  \n",
        "else:\n",
        "  print(\"Neither\")  "
      ],
      "execution_count": null,
      "outputs": []
    },
    {
      "cell_type": "markdown",
      "metadata": {
        "id": "GO-Nk2TZExeT"
      },
      "source": [
        "Answer 4 :"
      ]
    },
    {
      "cell_type": "code",
      "metadata": {
        "id": "YrWVHVgVDw_4"
      },
      "source": [
        "indian_rupees = int(input())\n",
        "print(indian_rupees*80)"
      ],
      "execution_count": null,
      "outputs": []
    }
  ]
}